{
 "cells": [
  {
   "cell_type": "code",
   "execution_count": 8,
   "metadata": {},
   "outputs": [
    {
     "name": "stderr",
     "output_type": "stream",
     "text": [
      "[ WARN:0@271.000] global cap_v4l.cpp:982 open VIDEOIO(V4L2:/dev/video0): can't open camera by index\n",
      "[ERROR:0@271.001] global obsensor_uvc_stream_channel.cpp:156 getStreamChannelGroup Camera index out of range\n"
     ]
    },
    {
     "ename": "error",
     "evalue": "OpenCV(4.7.0) /io/opencv/modules/imgproc/src/color.cpp:182: error: (-215:Assertion failed) !_src.empty() in function 'cvtColor'\n",
     "output_type": "error",
     "traceback": [
      "\u001b[0;31m---------------------------------------------------------------------------\u001b[0m",
      "\u001b[0;31merror\u001b[0m                                     Traceback (most recent call last)",
      "Cell \u001b[0;32mIn[8], line 14\u001b[0m\n\u001b[1;32m      9\u001b[0m ret, frame \u001b[39m=\u001b[39m cap\u001b[39m.\u001b[39mread()\n\u001b[1;32m     11\u001b[0m \u001b[39m# if not ret:\u001b[39;00m\n\u001b[1;32m     12\u001b[0m \u001b[39m#     break\u001b[39;00m\n\u001b[0;32m---> 14\u001b[0m frame \u001b[39m=\u001b[39m cv2\u001b[39m.\u001b[39;49mcvtColor(frame, cv2\u001b[39m.\u001b[39;49mCOLOR_BGR2RGB)\n\u001b[1;32m     16\u001b[0m labels, boxes, scores \u001b[39m=\u001b[39m model\u001b[39m.\u001b[39mpredict_top(frame)\n\u001b[1;32m     18\u001b[0m visualize\u001b[39m.\u001b[39mdetect_live(model, score_filter\u001b[39m=\u001b[39m\u001b[39m0.7\u001b[39m)\n",
      "\u001b[0;31merror\u001b[0m: OpenCV(4.7.0) /io/opencv/modules/imgproc/src/color.cpp:182: error: (-215:Assertion failed) !_src.empty() in function 'cvtColor'\n"
     ]
    }
   ],
   "source": [
    "import cv2\n",
    "from detecto import core, visualize\n",
    "\n",
    "model = core.Model.load('kathakali.pth', ['Pathaaka','Mudraakhyam','Katakam','Mushti','Kartharee Mukham'])\n",
    "\n",
    "cap = cv2.VideoCapture(0)\n",
    "\n",
    "while True:\n",
    "    ret, frame = cap.read()\n",
    "\n",
    "    # if not ret:\n",
    "    #     break\n",
    "\n",
    "    frame = cv2.cvtColor(frame, cv2.COLOR_BGR2RGB)\n",
    "\n",
    "    labels, boxes, scores = model.predict_top(frame)\n",
    "\n",
    "    visualize.detect_live(model, score_filter=0.7)\n",
    "\n",
    "cap.release()\n",
    "cv2.destroyAllWindows()\n"
   ]
  },
  {
   "cell_type": "code",
   "execution_count": 18,
   "metadata": {},
   "outputs": [
    {
     "ename": "",
     "evalue": "",
     "output_type": "error",
     "traceback": [
      "\u001b[1;31mCanceled future for execute_request message before replies were done"
     ]
    },
    {
     "ename": "",
     "evalue": "",
     "output_type": "error",
     "traceback": [
      "\u001b[1;31mThe Kernel crashed while executing code in the the current cell or a previous cell. Please review the code in the cell(s) to identify a possible cause of the failure. Click <a href='https://aka.ms/vscodeJupyterKernelCrash'>here</a> for more info. View Jupyter <a href='command:jupyter.viewOutput'>log</a> for further details."
     ]
    }
   ],
   "source": [
    "import sys\n",
    "import cv2\n",
    "from PyQt5 import QtWidgets, QtCore, QtGui\n",
    "from detecto import core, visualize\n",
    "\n",
    "class CameraWidget(QtWidgets.QWidget):\n",
    "    def __init__(self, parent=None):\n",
    "        super().__init__(parent)\n",
    "        self.cap = cv2.VideoCapture(0)\n",
    "        self.timer = QtCore.QTimer(self)\n",
    "        self.timer.timeout.connect(self.nextFrameSlot)\n",
    "        self.timer.start(1000./30)\n",
    "\n",
    "    def nextFrameSlot(self):\n",
    "        ret, frame = self.cap.read()\n",
    "        if ret:\n",
    "            frame = cv2.cvtColor(frame, cv2.COLOR_BGR2RGB)\n",
    "            self.image = QtGui.QImage(frame, frame.shape[1], frame.shape[0], QtGui.QImage.Format_RGB888)\n",
    "            self.update()\n",
    "\n",
    "    def paintEvent(self, event):\n",
    "        qp = QtGui.QPainter(self)\n",
    "        qp.drawImage(0, 0, self.image)\n",
    "        self.adjustSize()\n",
    "\n",
    "class MainWindow(QtWidgets.QMainWindow):\n",
    "    def __init__(self, model, parent=None):\n",
    "        super().__init__(parent)\n",
    "        self.model = model\n",
    "        self.centralwidget = QtWidgets.QWidget(self)\n",
    "        self.setCentralWidget(self.centralwidget)\n",
    "        self.cameraWidget = CameraWidget(self.centralwidget)\n",
    "        self.cameraWidget.setMinimumSize(640, 480)\n",
    "        self.cameraWidget.setMaximumSize(640, 480)\n",
    "        self.cameraWidget.setObjectName(\"cameraWidget\")\n",
    "        self.horizontalLayout = QtWidgets.QHBoxLayout(self.centralwidget)\n",
    "        self.horizontalLayout.setObjectName(\"horizontalLayout\")\n",
    "        self.horizontalLayout.addWidget(self.cameraWidget)\n",
    "        self.setFixedSize(self.size())\n",
    "        self.exit_key = QtCore.Qt.Key_Q\n",
    "        self.setFocusPolicy(QtCore.Qt.StrongFocus)\n",
    "\n",
    "    def keyPressEvent(self, event):\n",
    "        if event.key() == self.exit_key:\n",
    "            self.close()\n",
    "\n",
    "    def closeEvent(self, event):\n",
    "        self.cameraWidget.cap.release()\n",
    "\n",
    "if __name__ == \"__main__\":\n",
    "    model = core.Model.load('kathakali.pth', ['Pathaaka', 'Mudraakhyam', 'Katakam', 'Mushti', 'Kartharee Mukham'])\n",
    "    app = QtWidgets.QApplication(sys.argv)\n",
    "    mainWin = MainWindow(model)\n",
    "    mainWin.show()\n",
    "\n",
    "    while True:\n",
    "        ret, frame = mainWin.cameraWidget.cap.read()\n",
    "        if ret:\n",
    "            frame = cv2.cvtColor(frame, cv2.COLOR_BGR2RGB)\n",
    "            labels, boxes, scores = model.predict_top(frame)\n",
    "            visualize.show_labeled_image(frame, boxes, labels)\n",
    "        QtWidgets.qApp.processEvents()\n"
   ]
  }
 ],
 "metadata": {
  "kernelspec": {
   "display_name": "Python 3 (ipykernel)",
   "language": "python",
   "name": "python3"
  },
  "language_info": {
   "codemirror_mode": {
    "name": "ipython",
    "version": 3
   },
   "file_extension": ".py",
   "mimetype": "text/x-python",
   "name": "python",
   "nbconvert_exporter": "python",
   "pygments_lexer": "ipython3",
   "version": "3.11.3"
  }
 },
 "nbformat": 4,
 "nbformat_minor": 2
}
