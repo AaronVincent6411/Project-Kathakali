{
  "nbformat": 4,
  "nbformat_minor": 0,
  "metadata": {
    "colab": {
      "provenance": [],
      "gpuType": "T4"
    },
    "kernelspec": {
      "name": "python3",
      "display_name": "Python 3"
    },
    "language_info": {
      "name": "python"
    },
    "gpuClass": "standard",
    "accelerator": "GPU"
  },
  "cells": [
    {
      "cell_type": "code",
      "execution_count": null,
      "metadata": {
        "id": "MSAYBhECwK84"
      },
      "outputs": [],
      "source": [
        "!pip install detecto"
      ]
    },
    {
      "cell_type": "code",
      "source": [
        "from google.colab import drive\n",
        "drive.mount('/content/drive')"
      ],
      "metadata": {
        "id": "gqLGHtXrwaQC"
      },
      "execution_count": null,
      "outputs": []
    },
    {
      "cell_type": "code",
      "source": [
        "import matplotlib.pyplot as plt\n",
        "from detecto.utils import read_image \n",
        "from detecto.core import Dataset"
      ],
      "metadata": {
        "id": "r8v5DiXv3_SH"
      },
      "execution_count": null,
      "outputs": []
    },
    {
      "cell_type": "code",
      "source": [
        "train_dataset=Dataset('/content/drive/MyDrive/kathakali_data/train')\n",
        "val_dataset=Dataset('/content/drive/MyDrive/kathakali_data/test')"
      ],
      "metadata": {
        "id": "j5Oll34O4FmA"
      },
      "execution_count": null,
      "outputs": []
    },
    {
      "cell_type": "code",
      "source": [
        "from detecto.core import DataLoader,Model\n",
        "labels=['Pathaaka','Mudraakhyam','Katakam','Mushti','Kartharee Mukham']\n",
        "model=Model(labels)"
      ],
      "metadata": {
        "id": "oR5bstUH4JQm"
      },
      "execution_count": null,
      "outputs": []
    },
    {
      "cell_type": "code",
      "source": [
        "losses=model.fit(train_dataset,val_dataset,epochs=10)"
      ],
      "metadata": {
        "id": "4tlkCwoD4YJD"
      },
      "execution_count": null,
      "outputs": []
    },
    {
      "cell_type": "code",
      "source": [
        "plt.plot(losses)\n",
        "plt.show"
      ],
      "metadata": {
        "id": "2u935PL34c4X"
      },
      "execution_count": null,
      "outputs": []
    },
    {
      "cell_type": "code",
      "source": [
        "model.save('/content/drive/MyDrive/save_model/kathakali.pth')"
      ],
      "metadata": {
        "id": "BKLpGHO_4lPz"
      },
      "execution_count": null,
      "outputs": []
    },
    {
      "cell_type": "code",
      "source": [
        "img=read_image('/content/drive/MyDrive/kathakali_data/test/257_jpg.rf.c65f1c58ba694033042e39159e73c681.jpg')\n",
        "labels,boxes,scores=model.predict(img)"
      ],
      "metadata": {
        "id": "8hz-JTbtDcoI"
      },
      "execution_count": null,
      "outputs": []
    },
    {
      "cell_type": "code",
      "source": [
        "print(labels,boxes,scores)"
      ],
      "metadata": {
        "id": "Wh8PDq-nD837"
      },
      "execution_count": null,
      "outputs": []
    },
    {
      "cell_type": "code",
      "source": [
        "from detecto.visualize import show_labeled_image\n",
        "\n",
        "show_labeled_image(img, boxes[0], labels[0])"
      ],
      "metadata": {
        "id": "XQ4zKtFeEECA"
      },
      "execution_count": null,
      "outputs": []
    },
    {
      "cell_type": "code",
      "source": [
        "import numpy as np\n",
        "\n",
        "img = read_image('/content/drive/MyDrive/kathakali_data/test/257_jpg.rf.c65f1c58ba694033042e39159e73c681.jpg')\n",
        "labels, boxes, scores = model.predict(img)\n",
        "img_copy = np.array(img, dtype=np.uint8)\n",
        "\n",
        "sorted_scores = sorted(scores, reverse=True)\n",
        "highest_score = sorted_scores[0]\n",
        "\n",
        "for label, box, score in zip(labels, boxes, scores):\n",
        "    if score == highest_score:\n",
        "        text = f\"{label} ({score*100:.2f}%)\"\n",
        "        x, y = int(box[0]), int(box[1])\n",
        "        show_labeled_image(img_copy, box, text)\n"
      ],
      "metadata": {
        "id": "y-5XEgtoUCS7"
      },
      "execution_count": null,
      "outputs": []
    }
  ]
}